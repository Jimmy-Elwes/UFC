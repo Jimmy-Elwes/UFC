{
 "cells": [
  {
   "cell_type": "code",
   "execution_count": 49,
   "id": "e591a931",
   "metadata": {},
   "outputs": [],
   "source": [
    "from sklearn.tree import DecisionTreeClassifier\n",
    "from sklearn.ensemble import BaggingClassifier\n",
    "from sklearn.model_selection import cross_val_score,train_test_split,StratifiedKFold\n",
    "from sklearn.model_selection import GridSearchCV\n",
    "from sklearn.preprocessing import StandardScaler\n",
    "from sklearn.neighbors import KNeighborsClassifier\n",
    "from sklearn.tree import DecisionTreeClassifier\n",
    "from sklearn.svm import SVC\n",
    "from sklearn.ensemble import RandomForestClassifier, ExtraTreesClassifier\n",
    "from sklearn.feature_extraction.text import TfidfVectorizer\n",
    "from sklearn.pipeline import make_pipeline\n",
    "from sklearn.metrics import accuracy_score\n",
    "from sklearn.linear_model import LogisticRegression\n",
    "from sklearn.metrics import confusion_matrix, accuracy_score, classification_report\n",
    "import matplotlib.pyplot as plt\n",
    "import numpy as np\n",
    "import pandas as pd\n",
    "import seaborn as sns"
   ]
  },
  {
   "cell_type": "code",
   "execution_count": 64,
   "id": "94a22445",
   "metadata": {},
   "outputs": [],
   "source": [
    "%matplotlib inline\n",
    "%config InlineBackend.figure_format = 'retina'\n",
    "plt.style.use('dark_background')\n",
    "pd.set_option('display.max_rows', 100)"
   ]
  },
  {
   "cell_type": "code",
   "execution_count": 6,
   "id": "bc1c2a3e",
   "metadata": {
    "scrolled": true
   },
   "outputs": [],
   "source": [
    "import pickle\n",
    "with open('ufc_model', 'rb') as handle:\n",
    "    ufc_model = pickle.load(handle)"
   ]
  },
  {
   "cell_type": "code",
   "execution_count": 19,
   "id": "e484ec92",
   "metadata": {},
   "outputs": [
    {
     "data": {
      "image/png": "[encoded data removed]",
      "text/plain": [
       "<Figure size 432x288 with 1 Axes>"
      ]
     },
     "metadata": {
      "image/png": {
       "height": 231,
       "width": 231
      }
     },
     "output_type": "display_data"
    }
   ],
   "source": [
    "ufc_model.Winner.value_counts(normalize = True).plot(kind = 'pie', colors = ['blue','red'])\n",
    "\n",
    "\n",
    "df_pie = ufc_model[['Winner','R_fighter','B_fighter']].copy()\n",
    "df_pie['Winner'] = df_pie['Winner'].apply(lambda x: 'Red Win' if x == 1  else 'Blue Win')\n",
    "df_pie\n",
    "df_pie.groupby('Winner').count()['R_fighter'].plot(kind = 'pie',autopct='%1.1f%%', colors = ['blue','red'],fontsize=14)\n",
    "plt.ylabel('')\n",
    "plt.savefig('pie2.png', bbox_inches=\"tight\")\n",
    "#df_pie.plot(kind = 'pie', y = 'Winner')"
   ]
  },
  {
   "cell_type": "code",
   "execution_count": 20,
   "id": "637cbabe",
   "metadata": {},
   "outputs": [],
   "source": [
    "X = ufc_model.select_dtypes(['number'])\n",
    "y = X.pop('Winner')"
   ]
  },
  {
   "cell_type": "code",
   "execution_count": 21,
   "id": "9ae79d55",
   "metadata": {},
   "outputs": [],
   "source": [
    "X_train, X_test, y_train, y_test = train_test_split(X, y, test_size=0.25, random_state=0,shuffle=True)\n",
    "SS = StandardScaler()\n",
    "X_train = SS.fit_transform(X_train)\n",
    "X_test = SS.transform(X_test)"
   ]
  },
  {
   "cell_type": "markdown",
   "id": "ec53eae9",
   "metadata": {},
   "source": [
    "### Out the box models"
   ]
  },
  {
   "cell_type": "code",
   "execution_count": 22,
   "id": "ff19400c",
   "metadata": {},
   "outputs": [],
   "source": [
    "def docm(y_true, y_pred, labels=None):\n",
    "    cm = confusion_matrix(y_true, y_pred)\n",
    "    if labels is not None:\n",
    "        cols = ['p_'+c for c in labels]\n",
    "        df = pd.DataFrame(cm, index=labels, columns=cols)\n",
    "    else:\n",
    "        cols = ['p_'+str(i) for i in range(len(cm))]\n",
    "        df = pd.DataFrame(cm, columns=cols)\n",
    "    return df"
   ]
  },
  {
   "cell_type": "code",
   "execution_count": 23,
   "id": "1179aefe",
   "metadata": {},
   "outputs": [],
   "source": [
    "kf = StratifiedKFold(n_splits=5, shuffle=True, random_state=1)"
   ]
  },
  {
   "cell_type": "code",
   "execution_count": 24,
   "id": "a34b2364",
   "metadata": {
    "scrolled": true
   },
   "outputs": [
    {
     "name": "stdout",
     "output_type": "stream",
     "text": [
      "KNeighborsClassifier()\n",
      "\n",
      "accuracy\n",
      "0.5343228200371057\n",
      "XVal\n",
      "0.5312214986051363\n",
      "\n",
      "   p_0  p_1\n",
      "0  315  248\n",
      "1  254  261\n",
      "\n",
      "------------------------------------------------------------\n",
      "\n",
      "LogisticRegression(max_iter=10000, multi_class='ovr')\n",
      "\n",
      "accuracy\n",
      "0.5946196660482375\n",
      "XVal\n",
      "0.5859604461649623\n",
      "\n",
      "   p_0  p_1\n",
      "0  349  214\n",
      "1  223  292\n",
      "\n",
      "------------------------------------------------------------\n",
      "\n",
      "DecisionTreeClassifier()\n",
      "\n",
      "accuracy\n",
      "0.5222634508348795\n",
      "XVal\n",
      "0.5408161507505468\n",
      "\n",
      "   p_0  p_1\n",
      "0  310  253\n",
      "1  262  253\n",
      "\n",
      "------------------------------------------------------------\n",
      "\n",
      "SVC()\n",
      "\n",
      "accuracy\n",
      "0.5853432282003711\n",
      "XVal\n",
      "0.5884319627143137\n",
      "\n",
      "   p_0  p_1\n",
      "0  341  222\n",
      "1  225  290\n",
      "\n",
      "------------------------------------------------------------\n",
      "\n",
      "RandomForestClassifier()\n",
      "\n",
      "accuracy\n",
      "0.5584415584415584\n",
      "XVal\n",
      "0.5513314607548055\n",
      "\n",
      "   p_0  p_1\n",
      "0  342  221\n",
      "1  255  260\n",
      "\n",
      "------------------------------------------------------------\n",
      "\n",
      "ExtraTreesClassifier()\n",
      "\n",
      "accuracy\n",
      "0.5788497217068646\n",
      "XVal\n",
      "0.5621539757202807\n",
      "\n",
      "   p_0  p_1\n",
      "0  357  206\n",
      "1  248  267\n",
      "\n",
      "------------------------------------------------------------\n",
      "\n"
     ]
    }
   ],
   "source": [
    "models = [KNeighborsClassifier(),\n",
    "          LogisticRegression(solver='lbfgs', multi_class='ovr', max_iter = 10000),\n",
    "          DecisionTreeClassifier(),\n",
    "          SVC(gamma='scale'),\n",
    "          RandomForestClassifier(n_estimators=100),\n",
    "          ExtraTreesClassifier(n_estimators=100)]\n",
    "\n",
    "\n",
    "\n",
    "X_train = SS.fit_transform(X_train)\n",
    "X_test = SS.transform(X_test)\n",
    "\n",
    "\n",
    "res = []\n",
    "\n",
    "for model in models:\n",
    "    print(model)\n",
    "    print()\n",
    "    model.fit(X_train, y_train)\n",
    "    y_pred = model.predict(X_test)\n",
    "    score = accuracy_score(y_test, y_pred)\n",
    "    print('accuracy')\n",
    "    print(score)\n",
    "    print('XVal')\n",
    "    print(cross_val_score(model,X_train, y_train,cv = kf).mean())\n",
    "    print()\n",
    "    cm = docm(y_test, y_pred)\n",
    "    print(cm)\n",
    "    res.append([model, score])\n",
    "    print()\n",
    "    print('-'*60)\n",
    "    print()"
   ]
  },
  {
   "cell_type": "markdown",
   "id": "0c6e719a",
   "metadata": {},
   "source": [
    "<p>We are looking for models with the highest accuracy, the accuracy represents what percentage of fights the model was able to correctly predict the winner of the fight.</p>\n",
    "<p>In this case, the two best performing models are Logistic regression and Random Forrest which both had accuracies of roughly 70% this is an improvement on the 50% baseline estimation.</p>"
   ]
  },
  {
   "cell_type": "code",
   "execution_count": 9,
   "id": "d431b987",
   "metadata": {},
   "outputs": [],
   "source": [
    "## Build a function to compare Hyperparameter Tuned model to base\n",
    "\n",
    "def evaluate(model, X_test, y_test):\n",
    "    predictions = model.predict(X_test)\n",
    "    errors = abs(predictions - y_test)\n",
    "    mape = 100 * np.mean(errors / y_test)\n",
    "    accuracy = 100 - mape\n",
    "    print('Model Performance')\n",
    "    print('Average Error: {:0.4f} degrees.'.format(np.mean(errors)))\n",
    "    print('Accuracy = {:0.2f}%.'.format(accuracy))\n",
    "    return accuracy\n"
   ]
  },
  {
   "cell_type": "markdown",
   "id": "7bf20617",
   "metadata": {},
   "source": [
    "### Logistic Regression"
   ]
  },
  {
   "cell_type": "markdown",
   "id": "e4505f16",
   "metadata": {},
   "source": [
    "<p>We can try and fine-tune our models to increase the accuracy&nbsp;</p>"
   ]
  },
  {
   "cell_type": "code",
   "execution_count": 25,
   "id": "3a23aec8",
   "metadata": {},
   "outputs": [
    {
     "data": {
      "text/plain": [
       "(3234, 159)"
      ]
     },
     "execution_count": 25,
     "metadata": {},
     "output_type": "execute_result"
    }
   ],
   "source": [
    "X_train.shape"
   ]
  },
  {
   "cell_type": "code",
   "execution_count": 26,
   "id": "52c55c26",
   "metadata": {
    "scrolled": true
   },
   "outputs": [
    {
     "name": "stdout",
     "output_type": "stream",
     "text": [
      "Accuracy of logistic regression classifier on test set: 0.60\n",
      "Accuracy of logistic regression classifier on train set: 0.64\n"
     ]
    },
    {
     "name": "stderr",
     "output_type": "stream",
     "text": [
      "C:\\Users\\jimmy\\anaconda3\\lib\\site-packages\\sklearn\\linear_model\\_logistic.py:763: ConvergenceWarning: lbfgs failed to converge (status=1):\n",
      "STOP: TOTAL NO. of ITERATIONS REACHED LIMIT.\n",
      "\n",
      "Increase the number of iterations (max_iter) or scale the data as shown in:\n",
      "    https://scikit-learn.org/stable/modules/preprocessing.html\n",
      "Please also refer to the documentation for alternative solver options:\n",
      "    https://scikit-learn.org/stable/modules/linear_model.html#logistic-regression\n",
      "  n_iter_i = _check_optimize_result(\n"
     ]
    }
   ],
   "source": [
    "\n",
    "logreg = LogisticRegression()\n",
    "logreg.fit(X_train, y_train)\n",
    "\n",
    "y_pred = logreg.predict(X_test)\n",
    "print('Accuracy of logistic regression classifier on test set: {:.2f}'.format(logreg.score(X_test, y_test)))\n",
    "print('Accuracy of logistic regression classifier on train set: {:.2f}'.format(logreg.score(X_train, y_train)))"
   ]
  },
  {
   "cell_type": "code",
   "execution_count": 27,
   "id": "981b1b82",
   "metadata": {},
   "outputs": [
    {
     "name": "stdout",
     "output_type": "stream",
     "text": [
      "Fitting 5 folds for each of 18 candidates, totalling 90 fits\n",
      "{'C': 0.1, 'penalty': 'l1', 'solver': 'liblinear'}\n",
      "0.5970844239428464\n"
     ]
    }
   ],
   "source": [
    "## Tune log reg with GS \n",
    "gs_params = {'penalty': ['l1', 'l2'],\n",
    "                   'solver': ['liblinear'],\n",
    "                   'C': np.logspace(-4, 4, 9)}\n",
    "\n",
    "model = LogisticRegression()\n",
    "gs = GridSearchCV(model, gs_params, cv=5, n_jobs=2, verbose=1)\n",
    "gs.fit(X_train, y_train)\n",
    "print(gs.best_params_)\n",
    "print(gs.best_score_)\n",
    "predictions_train = gs.predict(X_train)\n",
    "predictions_test = gs.predict(X_test)\n",
    "best_logreg = gs.best_estimator_"
   ]
  },
  {
   "cell_type": "code",
   "execution_count": 28,
   "id": "5bff24d1",
   "metadata": {
    "scrolled": true
   },
   "outputs": [
    {
     "name": "stdout",
     "output_type": "stream",
     "text": [
      "              precision    recall  f1-score   support\n",
      "\n",
      "           0       0.63      0.65      0.64      1641\n",
      "           1       0.63      0.61      0.62      1593\n",
      "\n",
      "    accuracy                           0.63      3234\n",
      "   macro avg       0.63      0.63      0.63      3234\n",
      "weighted avg       0.63      0.63      0.63      3234\n",
      "\n"
     ]
    }
   ],
   "source": [
    "print(classification_report(y_train, predictions_train))"
   ]
  },
  {
   "cell_type": "code",
   "execution_count": 29,
   "id": "f877aa49",
   "metadata": {},
   "outputs": [
    {
     "name": "stdout",
     "output_type": "stream",
     "text": [
      "              precision    recall  f1-score   support\n",
      "\n",
      "           0       0.60      0.62      0.61       563\n",
      "           1       0.57      0.55      0.56       515\n",
      "\n",
      "    accuracy                           0.59      1078\n",
      "   macro avg       0.59      0.58      0.58      1078\n",
      "weighted avg       0.59      0.59      0.59      1078\n",
      "\n"
     ]
    }
   ],
   "source": [
    "print(classification_report(y_test, predictions_test))"
   ]
  },
  {
   "cell_type": "markdown",
   "id": "631c675c",
   "metadata": {},
   "source": [
    "<p>precision and recall is roughly the same suggesting that the data is quite balanced i.e one class is not consistently winning, the tuned model shows a percent increase on the out the out the box model</p>"
   ]
  },
  {
   "cell_type": "code",
   "execution_count": 31,
   "id": "7b05b183",
   "metadata": {},
   "outputs": [
    {
     "data": {
      "text/plain": [
       "<AxesSubplot:title={'center':'Confusion Matrix'}, xlabel='Predicted label', ylabel='True label'>"
      ]
     },
     "execution_count": 31,
     "metadata": {},
     "output_type": "execute_result"
    },
    {
     "data": {
      "image/png": "[encoded data removed]",
      "text/plain": [
       "<Figure size 432x288 with 2 Axes>"
      ]
     },
     "metadata": {
      "image/png": {
       "height": 279,
       "width": 318
      }
     },
     "output_type": "display_data"
    }
   ],
   "source": [
    "from sklearn.utils.multiclass import unique_labels\n",
    "\n",
    "cm = confusion_matrix(y_test, predictions_test)\n",
    "classes = unique_labels(y_test, predictions_test)\n",
    "\n",
    "fig, ax = plt.subplots()\n",
    "im = ax.imshow(cm, interpolation='nearest', cmap=plt.cm.Blues)\n",
    "ax.figure.colorbar(im, ax=ax)\n",
    "# We want to show all ticks...\n",
    "ax.set(xticks=np.arange(cm.shape[1]),\n",
    "       yticks=np.arange(cm.shape[0]),\n",
    "       # ... and label them with the respective list entries\n",
    "       xticklabels=classes, yticklabels=classes,\n",
    "       title='Confusion Matrix',\n",
    "       ylabel='True label',\n",
    "       xlabel='Predicted label')\n",
    "# Loop over data dimensions and create text annotations.\n",
    "fmt = 'd'\n",
    "thresh = cm.max() / 2.\n",
    "for i in range(cm.shape[0]):\n",
    "    for j in range(cm.shape[1]):\n",
    "        ax.text(j, i, format(cm[i, j], fmt),\n",
    "                ha=\"center\", va=\"center\",\n",
    "                color=\"black\" if cm[i, j] > thresh else \"black\")\n",
    "fig.tight_layout()\n",
    "plt.savefig('confusion matrix')\n",
    "ax"
   ]
  },
  {
   "cell_type": "markdown",
   "id": "78fe7526",
   "metadata": {},
   "source": [
    "<p>Below is a list of feature importance ranked by the impact on the target (in this case who will win the fight)&nbsp;</p>\n",
    "<p>The x labelled features represent the Red Corner, the model is predicting if the X fighter will win which produces a 1 in the winner columm. The key indicators are landed head shots and knockdowns, </p>\n",
    "<p>&nbsp;</p>"
   ]
  },
  {
   "cell_type": "code",
   "execution_count": 66,
   "id": "95ffa2f5",
   "metadata": {},
   "outputs": [
    {
     "data": {
      "text/html": [
       "<div>\n",
       "<style scoped>\n",
       "    .dataframe tbody tr th:only-of-type {\n",
       "        vertical-align: middle;\n",
       "    }\n",
       "\n",
       "    .dataframe tbody tr th {\n",
       "        vertical-align: top;\n",
       "    }\n",
       "\n",
       "    .dataframe thead th {\n",
       "        text-align: right;\n",
       "    }\n",
       "</style>\n",
       "<table border=\"1\" class=\"dataframe\">\n",
       "  <thead>\n",
       "    <tr style=\"text-align: right;\">\n",
       "      <th></th>\n",
       "      <th>feature</th>\n",
       "      <th>coef</th>\n",
       "    </tr>\n",
       "  </thead>\n",
       "  <tbody>\n",
       "    <tr>\n",
       "      <th>148</th>\n",
       "      <td>age_y</td>\n",
       "      <td>0.264823</td>\n",
       "    </tr>\n",
       "    <tr>\n",
       "      <th>11</th>\n",
       "      <td>Fight_type_Women's Flyweight</td>\n",
       "      <td>0.206001</td>\n",
       "    </tr>\n",
       "    <tr>\n",
       "      <th>66</th>\n",
       "      <td>Fight_type_wins_Women's Flyweight_x</td>\n",
       "      <td>0.203910</td>\n",
       "    </tr>\n",
       "    <tr>\n",
       "      <th>147</th>\n",
       "      <td>age_x</td>\n",
       "      <td>0.197274</td>\n",
       "    </tr>\n",
       "    <tr>\n",
       "      <th>24</th>\n",
       "      <td>average_TD_attempted_x</td>\n",
       "      <td>0.165909</td>\n",
       "    </tr>\n",
       "    <tr>\n",
       "      <th>102</th>\n",
       "      <td>wins_y</td>\n",
       "      <td>0.141173</td>\n",
       "    </tr>\n",
       "    <tr>\n",
       "      <th>79</th>\n",
       "      <td>average_TD_pct_y</td>\n",
       "      <td>0.137803</td>\n",
       "    </tr>\n",
       "    <tr>\n",
       "      <th>19</th>\n",
       "      <td>average_SIG_STR_landed_x</td>\n",
       "      <td>0.135416</td>\n",
       "    </tr>\n",
       "    <tr>\n",
       "      <th>36</th>\n",
       "      <td>average_GROUND_attempted_x</td>\n",
       "      <td>0.128767</td>\n",
       "    </tr>\n",
       "    <tr>\n",
       "      <th>146</th>\n",
       "      <td>Reach_y</td>\n",
       "      <td>0.123508</td>\n",
       "    </tr>\n",
       "  </tbody>\n",
       "</table>\n",
       "</div>"
      ],
      "text/plain": [
       "                                 feature      coef\n",
       "148                                age_y  0.264823\n",
       "11          Fight_type_Women's Flyweight  0.206001\n",
       "66   Fight_type_wins_Women's Flyweight_x  0.203910\n",
       "147                                age_x  0.197274\n",
       "24                average_TD_attempted_x  0.165909\n",
       "102                               wins_y  0.141173\n",
       "79                      average_TD_pct_y  0.137803\n",
       "19              average_SIG_STR_landed_x  0.135416\n",
       "36            average_GROUND_attempted_x  0.128767\n",
       "146                              Reach_y  0.123508"
      ]
     },
     "execution_count": 66,
     "metadata": {},
     "output_type": "execute_result"
    }
   ],
   "source": [
    "df.sort_values(by='coef', ascending=False) "
   ]
  },
  {
   "cell_type": "code",
   "execution_count": 69,
   "id": "93dc6627",
   "metadata": {},
   "outputs": [
    {
     "data": {
      "image/png": "[encoded data removed]",
      "text/plain": [
       "<Figure size 720x720 with 1 Axes>"
      ]
     },
     "metadata": {
      "image/png": {
       "height": 590,
       "width": 785
      }
     },
     "output_type": "display_data"
    }
   ],
   "source": [
    "\n",
    "\n",
    "\n",
    "df = pd.DataFrame(list(zip(X.columns, best_logreg.coef_[0])), \n",
    "             columns=['feature', 'coef'])\n",
    "df['coef'] =  df.coef.apply(lambda x : abs(x))\n",
    "df = df.sort_values(by='coef', ascending=False).head(10)\n",
    "\n",
    "\n",
    "df.plot(kind='barh', x='feature', y='coef', figsize=(10, 10), color = 'red', legend = False)\n",
    "plt.title('Importance of Fight Stats')\n",
    "plt.savefig('coeffs', bbox_inches=\"tight\")\n",
    "plt.show()"
   ]
  },
  {
   "cell_type": "code",
   "execution_count": 49,
   "id": "262e98c5",
   "metadata": {},
   "outputs": [
    {
     "ename": "NameError",
     "evalue": "name 'lr' is not defined",
     "output_type": "error",
     "traceback": [
      "\u001b[1;31m---------------------------------------------------------------------------\u001b[0m",
      "\u001b[1;31mNameError\u001b[0m                                 Traceback (most recent call last)",
      "\u001b[1;32m~\\AppData\\Local\\Temp/ipykernel_18436/832746257.py\u001b[0m in \u001b[0;36m<module>\u001b[1;34m\u001b[0m\n\u001b[0;32m      2\u001b[0m \u001b[1;33m\u001b[0m\u001b[0m\n\u001b[0;32m      3\u001b[0m \u001b[0mfilename\u001b[0m \u001b[1;33m=\u001b[0m \u001b[1;34m'finalized_model.sav'\u001b[0m\u001b[1;33m\u001b[0m\u001b[1;33m\u001b[0m\u001b[0m\n\u001b[1;32m----> 4\u001b[1;33m \u001b[0mpickle\u001b[0m\u001b[1;33m.\u001b[0m\u001b[0mdump\u001b[0m\u001b[1;33m(\u001b[0m\u001b[0mlr\u001b[0m\u001b[1;33m,\u001b[0m \u001b[0mopen\u001b[0m\u001b[1;33m(\u001b[0m\u001b[0mfilename\u001b[0m\u001b[1;33m,\u001b[0m \u001b[1;34m'wb'\u001b[0m\u001b[1;33m)\u001b[0m\u001b[1;33m)\u001b[0m\u001b[1;33m\u001b[0m\u001b[1;33m\u001b[0m\u001b[0m\n\u001b[0m",
      "\u001b[1;31mNameError\u001b[0m: name 'lr' is not defined"
     ]
    }
   ],
   "source": [
    "import pickle\n",
    "\n",
    "filename = 'finalized_model.sav'\n",
    "pickle.dump(lr, open(filename, 'wb'))"
   ]
  },
  {
   "cell_type": "code",
   "execution_count": 71,
   "id": "696a7ddb",
   "metadata": {},
   "outputs": [
    {
     "data": {
      "image/png": "[encoded data removed]",
      "text/plain": [
       "<Figure size 432x288 with 1 Axes>"
      ]
     },
     "metadata": {
      "image/png": {
       "height": 277,
       "width": 393
      }
     },
     "output_type": "display_data"
    }
   ],
   "source": [
    "from sklearn.metrics import roc_auc_score\n",
    "from sklearn.metrics import roc_curve\n",
    "\n",
    "logit_roc_auc = roc_auc_score(y_test, logreg.predict(X_test))\n",
    "fpr, tpr, thresholds = roc_curve(y_test, logreg.predict_proba(X_test)[:,1])\n",
    "plt.figure()\n",
    "plt.plot(fpr, tpr, label='Logistic Regression (area = %0.2f)' % logit_roc_auc)\n",
    "plt.plot([0, 1], [0, 1],'r--')\n",
    "plt.xlim([0.0, 1.0])\n",
    "plt.ylim([0.0, 1.05])\n",
    "plt.xlabel('False Positive Rate')\n",
    "plt.ylabel('True Positive Rate')\n",
    "plt.title('Receiver operating characteristic')\n",
    "plt.legend(loc=\"lower right\")\n",
    "plt.savefig('Log_ROC',bbox_inches=\"tight\")\n",
    "plt.show()"
   ]
  },
  {
   "cell_type": "markdown",
   "id": "8bf4aff9",
   "metadata": {},
   "source": [
    "## Random Forrest"
   ]
  },
  {
   "cell_type": "markdown",
   "id": "83f0afaf",
   "metadata": {},
   "source": [
    "### Grid Search"
   ]
  },
  {
   "cell_type": "code",
   "execution_count": 46,
   "id": "e93c25d6",
   "metadata": {},
   "outputs": [],
   "source": [
    "from sklearn.model_selection import GridSearchCV\n",
    "# Create the parameter grid based on the results of random search \n",
    "param_grid = {\n",
    "    'bootstrap': [True],\n",
    "    'max_depth': [80, 90, 100, 110],\n",
    "    'max_features': [2, 3],\n",
    "    'min_samples_leaf': [3, 4, 5],\n",
    "    'min_samples_split': [8, 10, 12],\n",
    "    'n_estimators': [100, 200, 300, 1000]\n",
    "}\n",
    "# Create a based model\n",
    "rf = RandomForestClassifier()\n",
    "# Instantiate the grid search model\n",
    "grid_search = GridSearchCV(estimator = rf, param_grid = param_grid, \n",
    "                          cv = 3, n_jobs = -1, verbose = 2)\n",
    "\n"
   ]
  },
  {
   "cell_type": "code",
   "execution_count": 47,
   "id": "c6f87712",
   "metadata": {},
   "outputs": [
    {
     "name": "stdout",
     "output_type": "stream",
     "text": [
      "Fitting 3 folds for each of 288 candidates, totalling 864 fits\n"
     ]
    },
    {
     "ename": "NameError",
     "evalue": "name 'pp' is not defined",
     "output_type": "error",
     "traceback": [
      "\u001b[1;31m---------------------------------------------------------------------------\u001b[0m",
      "\u001b[1;31mNameError\u001b[0m                                 Traceback (most recent call last)",
      "\u001b[1;32m~\\AppData\\Local\\Temp/ipykernel_16656/3162095096.py\u001b[0m in \u001b[0;36m<module>\u001b[1;34m\u001b[0m\n\u001b[0;32m      1\u001b[0m \u001b[1;31m# Fit the grid search to the data\u001b[0m\u001b[1;33m\u001b[0m\u001b[1;33m\u001b[0m\u001b[0m\n\u001b[0;32m      2\u001b[0m \u001b[0mgrid_search\u001b[0m\u001b[1;33m.\u001b[0m\u001b[0mfit\u001b[0m\u001b[1;33m(\u001b[0m\u001b[0mX_train\u001b[0m\u001b[1;33m,\u001b[0m \u001b[0my_train\u001b[0m\u001b[1;33m)\u001b[0m\u001b[1;33m\u001b[0m\u001b[1;33m\u001b[0m\u001b[0m\n\u001b[1;32m----> 3\u001b[1;33m \u001b[0mpp\u001b[0m\u001b[1;33m.\u001b[0m\u001b[0mpprint\u001b[0m\u001b[1;33m(\u001b[0m\u001b[0mgrid_search\u001b[0m\u001b[1;33m.\u001b[0m\u001b[0mbest_params_\u001b[0m\u001b[1;33m)\u001b[0m\u001b[1;33m\u001b[0m\u001b[1;33m\u001b[0m\u001b[0m\n\u001b[0m\u001b[0;32m      4\u001b[0m \u001b[1;33m\u001b[0m\u001b[0m\n\u001b[0;32m      5\u001b[0m \u001b[0mbest_grid\u001b[0m \u001b[1;33m=\u001b[0m \u001b[0mgrid_search\u001b[0m\u001b[1;33m.\u001b[0m\u001b[0mbest_estimator_\u001b[0m\u001b[1;33m\u001b[0m\u001b[1;33m\u001b[0m\u001b[0m\n",
      "\u001b[1;31mNameError\u001b[0m: name 'pp' is not defined"
     ]
    }
   ],
   "source": [
    "# Fit the grid search to the data\n",
    "grid_search.fit(X_train, y_train)\n",
    "pp.pprint(grid_search.best_params_)\n",
    "\n",
    "best_grid = grid_search.best_estimator_\n",
    "grid_accuracy = evaluate(best_grid, X_test, y_test)\n"
   ]
  },
  {
   "cell_type": "code",
   "execution_count": 72,
   "id": "22f70534",
   "metadata": {},
   "outputs": [
    {
     "data": {
      "text/plain": [
       "0.7003710575139147"
      ]
     },
     "execution_count": 72,
     "metadata": {},
     "output_type": "execute_result"
    }
   ],
   "source": [
    "best_grid.score(X_test, y_test)"
   ]
  },
  {
   "cell_type": "code",
   "execution_count": 45,
   "id": "4c93001c",
   "metadata": {},
   "outputs": [
    {
     "ename": "NameError",
     "evalue": "name 'best_grid' is not defined",
     "output_type": "error",
     "traceback": [
      "\u001b[1;31m---------------------------------------------------------------------------\u001b[0m",
      "\u001b[1;31mNameError\u001b[0m                                 Traceback (most recent call last)",
      "\u001b[1;32m~\\AppData\\Local\\Temp/ipykernel_16656/810944075.py\u001b[0m in \u001b[0;36m<module>\u001b[1;34m\u001b[0m\n\u001b[0;32m      1\u001b[0m \u001b[1;31m# Extract the best decision forest\u001b[0m\u001b[1;33m\u001b[0m\u001b[1;33m\u001b[0m\u001b[0m\n\u001b[1;32m----> 2\u001b[1;33m \u001b[0my_pred\u001b[0m \u001b[1;33m=\u001b[0m \u001b[0mbest_grid\u001b[0m\u001b[1;33m.\u001b[0m\u001b[0mpredict\u001b[0m\u001b[1;33m(\u001b[0m\u001b[0mX_test\u001b[0m\u001b[1;33m)\u001b[0m\u001b[1;33m\u001b[0m\u001b[1;33m\u001b[0m\u001b[0m\n\u001b[0m\u001b[0;32m      3\u001b[0m \u001b[1;33m\u001b[0m\u001b[0m\n\u001b[0;32m      4\u001b[0m \u001b[1;31m# Create a confusion matrix\u001b[0m\u001b[1;33m\u001b[0m\u001b[1;33m\u001b[0m\u001b[0m\n\u001b[0;32m      5\u001b[0m \u001b[0mcnf_matrix\u001b[0m \u001b[1;33m=\u001b[0m \u001b[0mconfusion_matrix\u001b[0m\u001b[1;33m(\u001b[0m\u001b[0my_test\u001b[0m\u001b[1;33m,\u001b[0m \u001b[0my_pred\u001b[0m\u001b[1;33m)\u001b[0m\u001b[1;33m\u001b[0m\u001b[1;33m\u001b[0m\u001b[0m\n",
      "\u001b[1;31mNameError\u001b[0m: name 'best_grid' is not defined"
     ]
    }
   ],
   "source": [
    "# Extract the best decision forest \n",
    "y_pred = best_grid.predict(X_test)\n",
    "\n",
    "# Create a confusion matrix\n",
    "cnf_matrix = confusion_matrix(y_test, y_pred)\n",
    "\n",
    "# Create heatmap from the confusion matrix\n",
    "%matplotlib inline\n",
    "class_names=[False, True] # name  of classes\n",
    "fig, ax = plt.subplots(figsize=(7, 6))\n",
    "sns.heatmap(pd.DataFrame(cnf_matrix), annot=True, cmap=\"YlGnBu\", fmt='g')\n",
    "ax.xaxis.set_label_position(\"top\")\n",
    "plt.tight_layout()\n",
    "plt.title('Confusion matrix')\n",
    "plt.ylabel('Actual label')\n",
    "plt.xlabel('Predicted label')\n",
    "tick_marks = [0.5, 1.5]\n",
    "plt.xticks(tick_marks, class_names)\n",
    "plt.yticks(tick_marks, class_names)"
   ]
  },
  {
   "cell_type": "code",
   "execution_count": 73,
   "id": "a8d50278",
   "metadata": {},
   "outputs": [],
   "source": [
    "def evaluate(model, X_test, y_test):\n",
    "    predictions = model.predict(X_test)\n",
    "    errors = abs(predictions - y_test)\n",
    "    mape = 100 * np.mean(errors / y_test)\n",
    "    print(mape)\n",
    "    accuracy = 100 - mape\n",
    "    print('Model Performance')\n",
    "    print('Average Error: {:0.4f} degrees.'.format(np.mean(errors)))\n",
    "    print('Accuracy = {:0.2f}%.'.format(accuracy))\n",
    "    return accuracy"
   ]
  },
  {
   "cell_type": "markdown",
   "id": "cfb10e20",
   "metadata": {},
   "source": [
    "#### Model Performance"
   ]
  },
  {
   "cell_type": "code",
   "execution_count": 70,
   "id": "5a50da92",
   "metadata": {},
   "outputs": [
    {
     "name": "stdout",
     "output_type": "stream",
     "text": [
      "Improvement of nan%.\n"
     ]
    },
    {
     "name": "stderr",
     "output_type": "stream",
     "text": [
      "C:\\Users\\jimmy\\AppData\\Local\\Temp/ipykernel_13928/2401553293.py:1: RuntimeWarning: invalid value encountered in double_scalars\n",
      "  print('Improvement of {:0.2f}%.'.format( 100 * (grid_accuracy - base_accuracy) / base_accuracy))\n"
     ]
    }
   ],
   "source": [
    "print('Improvement of {:0.2f}%.'.format( 100 * (grid_accuracy - base_accuracy) / base_accuracy))"
   ]
  },
  {
   "cell_type": "markdown",
   "id": "d7bc1e73",
   "metadata": {},
   "source": [
    "### Random Search"
   ]
  },
  {
   "cell_type": "code",
   "execution_count": null,
   "id": "5374fd47",
   "metadata": {},
   "outputs": [],
   "source": [
    "from sklearn.ensemble import RandomForestClassifier\n",
    "rf = RandomForestClassifier(random_state = 42)\n",
    "from pprint import pprint\n",
    "# Look at parameters used by our current forest\n",
    "print('Parameters currently in use:\\n')\n",
    "pprint(rf.get_params())\n"
   ]
  },
  {
   "cell_type": "code",
   "execution_count": 47,
   "id": "b312632a",
   "metadata": {},
   "outputs": [
    {
     "name": "stdout",
     "output_type": "stream",
     "text": [
      "{   'bootstrap': [True, False],\n",
      "    'max_depth': [10, 20, 30, 40, 50, 60, 70, 80, 90, 100, 110, None],\n",
      "    'max_features': ['auto', 'sqrt'],\n",
      "    'min_samples_leaf': [1, 2, 4],\n",
      "    'min_samples_split': [2, 5, 10],\n",
      "    'n_estimators': [200, 400, 600, 800, 1000, 1200, 1400, 1600, 1800, 2000]}\n"
     ]
    }
   ],
   "source": [
    "from sklearn.model_selection import RandomizedSearchCV\n",
    "import pprint\n",
    "pp = pprint.PrettyPrinter(indent=4)\n",
    "# Number of trees in random forest\n",
    "n_estimators = [int(x) for x in np.linspace(start = 200, stop = 2000, num = 10)]\n",
    "# Number of features to consider at every split\n",
    "max_features = ['auto', 'sqrt']\n",
    "# Maximum number of levels in tree\n",
    "max_depth = [int(x) for x in np.linspace(10, 110, num = 11)]\n",
    "max_depth.append(None)\n",
    "# Minimum number of samples required to split a node\n",
    "min_samples_split = [2, 5, 10]\n",
    "# Minimum number of samples required at each leaf node\n",
    "min_samples_leaf = [1, 2, 4]\n",
    "# Method of selecting samples for training each tree\n",
    "bootstrap = [True, False]\n",
    "# Create the random grid\n",
    "random_grid = {'n_estimators': n_estimators,\n",
    "               'max_features': max_features,\n",
    "               'max_depth': max_depth,\n",
    "               'min_samples_split': min_samples_split,\n",
    "               'min_samples_leaf': min_samples_leaf,\n",
    "               'bootstrap': bootstrap}\n",
    "\n",
    "pp.pprint(random_grid) \n",
    "\n"
   ]
  },
  {
   "cell_type": "code",
   "execution_count": 48,
   "id": "07df2ccb",
   "metadata": {},
   "outputs": [
    {
     "name": "stdout",
     "output_type": "stream",
     "text": [
      "Fitting 3 folds for each of 100 candidates, totalling 300 fits\n"
     ]
    },
    {
     "data": {
      "text/plain": [
       "RandomizedSearchCV(cv=3, estimator=RandomForestClassifier(), n_iter=100,\n",
       "                   n_jobs=-1,\n",
       "                   param_distributions={'bootstrap': [True, False],\n",
       "                                        'max_depth': [10, 20, 30, 40, 50, 60,\n",
       "                                                      70, 80, 90, 100, 110,\n",
       "                                                      None],\n",
       "                                        'max_features': ['auto', 'sqrt'],\n",
       "                                        'min_samples_leaf': [1, 2, 4],\n",
       "                                        'min_samples_split': [2, 5, 10],\n",
       "                                        'n_estimators': [200, 400, 600, 800,\n",
       "                                                         1000, 1200, 1400, 1600,\n",
       "                                                         1800, 2000]},\n",
       "                   random_state=42, verbose=2)"
      ]
     },
     "execution_count": 48,
     "metadata": {},
     "output_type": "execute_result"
    }
   ],
   "source": [
    "# Use the random grid to search for best hyperparameters\n",
    "# First create the base model to tune\n",
    "rf = RandomForestClassifier()\n",
    "# Random search of parameters, using 3 fold cross validation, \n",
    "# search across 100 different combinations, and use all available cores\n",
    "rf_random = RandomizedSearchCV(estimator = rf, param_distributions = random_grid, n_iter = 100, cv = 3, verbose=2, random_state=42, n_jobs = -1)\n",
    "# Fit the random search model\n",
    "\n",
    "rf_random.fit(X_train, y_train)"
   ]
  },
  {
   "cell_type": "code",
   "execution_count": null,
   "id": "1c7cb341",
   "metadata": {},
   "outputs": [],
   "source": []
  },
  {
   "cell_type": "code",
   "execution_count": 58,
   "id": "14971f34",
   "metadata": {},
   "outputs": [
    {
     "name": "stdout",
     "output_type": "stream",
     "text": [
      "Model Performance\n",
      "Average Error: 0.3506 degrees.\n",
      "Accuracy = -inf%.\n",
      "Model Performance\n",
      "Average Error: 0.2848 degrees.\n",
      "Accuracy = -inf%.\n",
      "Improvement of nan%.\n"
     ]
    },
    {
     "name": "stderr",
     "output_type": "stream",
     "text": [
      "C:\\Users\\jimmy\\AppData\\Local\\Temp/ipykernel_13928/3084452175.py:30: RuntimeWarning: invalid value encountered in double_scalars\n",
      "  print('Improvement of {:0.2f}%.'.format( 100 * (random_accuracy - base_accuracy) / base_accuracy))\n"
     ]
    }
   ],
   "source": [
    "\n",
    "\n",
    "base_model = RandomForestClassifier(n_estimators = 10, random_state = 42)\n",
    "base_model.fit(X_train, y_train)\n",
    "base_accuracy = evaluate(base_model, X_test, y_test)\n",
    "\n",
    "\n",
    "best_random = rf_random.best_estimator_\n",
    "random_accuracy = evaluate(best_random, X_test, y_test)\n",
    "\n",
    "\n",
    "print('Improvement of {:0.2f}%.'.format( 100 * (random_accuracy - base_accuracy) / base_accuracy))"
   ]
  },
  {
   "cell_type": "markdown",
   "id": "66082c21",
   "metadata": {},
   "source": [
    "## Best Model"
   ]
  },
  {
   "cell_type": "markdown",
   "id": "c4897d06",
   "metadata": {},
   "source": [
    "##### Using the best Logistic Regression model to apply to all data "
   ]
  },
  {
   "cell_type": "code",
   "execution_count": 36,
   "id": "c7f98176",
   "metadata": {},
   "outputs": [
    {
     "data": {
      "text/plain": [
       "LogisticRegression(C=0.1, penalty='l1', solver='liblinear')"
      ]
     },
     "execution_count": 36,
     "metadata": {},
     "output_type": "execute_result"
    }
   ],
   "source": [
    "lr = LogisticRegression(C =  0.1, penalty = 'l1', solver = 'liblinear')\n",
    "X_all = ufc_model.select_dtypes(['number'])\n",
    "y_all  = X_all.pop('Winner')\n",
    "lr.fit(X_all,y_all)\n"
   ]
  },
  {
   "cell_type": "code",
   "execution_count": 38,
   "id": "3d67d91e",
   "metadata": {},
   "outputs": [],
   "source": [
    "# Extract the predicted\n",
    "y_pred = lr.predict(X_all)"
   ]
  },
  {
   "cell_type": "code",
   "execution_count": 39,
   "id": "7019c5ce",
   "metadata": {},
   "outputs": [
    {
     "name": "stdout",
     "output_type": "stream",
     "text": [
      "              precision    recall  f1-score   support\n",
      "\n",
      "           0       0.62      0.66      0.64      2204\n",
      "           1       0.62      0.59      0.60      2108\n",
      "\n",
      "    accuracy                           0.62      4312\n",
      "   macro avg       0.62      0.62      0.62      4312\n",
      "weighted avg       0.62      0.62      0.62      4312\n",
      "\n"
     ]
    }
   ],
   "source": [
    "print(classification_report(y_all, y_pred))"
   ]
  },
  {
   "cell_type": "code",
   "execution_count": 40,
   "id": "132200fb",
   "metadata": {},
   "outputs": [
    {
     "data": {
      "text/plain": [
       "Index(['Title', 'Fight_type_Bantamweight', 'Fight_type_Featherweight',\n",
       "       'Fight_type_Flyweight', 'Fight_type_Heavyweight',\n",
       "       'Fight_type_Light Heavyweight', 'Fight_type_Lightweight',\n",
       "       'Fight_type_Middleweight', 'Fight_type_Open Weight',\n",
       "       'Fight_type_Welterweight',\n",
       "       ...\n",
       "       'Stance_y_Open Stance', 'Stance_y_Orthodox', 'Stance_y_Sideways',\n",
       "       'Stance_y_Southpaw', 'Stance_y_Switch', 'Stance_x_Open Stance',\n",
       "       'Stance_x_Orthodox', 'Stance_x_Sideways', 'Stance_x_Southpaw',\n",
       "       'Stance_x_Switch'],\n",
       "      dtype='object', length=159)"
      ]
     },
     "execution_count": 40,
     "metadata": {},
     "output_type": "execute_result"
    }
   ],
   "source": [
    "X.columns"
   ]
  },
  {
   "cell_type": "code",
   "execution_count": 41,
   "id": "344dd801",
   "metadata": {
    "scrolled": true
   },
   "outputs": [
    {
     "data": {
      "text/plain": [
       "([<matplotlib.axis.YTick at 0x27d678426d0>,\n",
       "  <matplotlib.axis.YTick at 0x27d678427c0>],\n",
       " [Text(0, 0.5, 'False'), Text(0, 1.5, 'True')])"
      ]
     },
     "execution_count": 41,
     "metadata": {},
     "output_type": "execute_result"
    },
    {
     "data": {
      "image/png": "[encoded data removed]",
      "text/plain": [
       "<Figure size 504x432 with 2 Axes>"
      ]
     },
     "metadata": {
      "image/png": {
       "height": 451,
       "width": 492
      },
      "needs_background": "dark"
     },
     "output_type": "display_data"
    }
   ],
   "source": [
    "# Create a confusion matrix\n",
    "cnf_matrix = confusion_matrix(y_all, y_pred)\n",
    "\n",
    "# Create heatmap from the confusion matrix\n",
    "%matplotlib inline\n",
    "class_names=[False, True] # name  of classes\n",
    "fig, ax = plt.subplots(figsize=(7, 6))\n",
    "sns.heatmap(pd.DataFrame(cnf_matrix), annot=True, cmap=\"YlGnBu\", fmt='g')\n",
    "ax.xaxis.set_label_position(\"top\")\n",
    "plt.tight_layout()\n",
    "plt.title('Confusion matrix')\n",
    "plt.ylabel('Actual label')\n",
    "plt.xlabel('Predicted label')\n",
    "tick_marks = [0.5, 1.5]\n",
    "plt.xticks(tick_marks, class_names)\n",
    "plt.yticks(tick_marks, class_names)"
   ]
  },
  {
   "cell_type": "markdown",
   "id": "e24f71d7",
   "metadata": {},
   "source": [
    "### Better at predicting Blue win  than Red win"
   ]
  },
  {
   "cell_type": "code",
   "execution_count": 42,
   "id": "83faab28",
   "metadata": {},
   "outputs": [],
   "source": [
    "import pickle\n",
    "\n",
    "with open(\"Xcol\", \"wb\") as fp:   #Pickling\n",
    "    pickle.dump(X.columns, fp)"
   ]
  },
  {
   "cell_type": "code",
   "execution_count": 43,
   "id": "5e4bdcc2",
   "metadata": {},
   "outputs": [],
   "source": [
    "filename = 'finalized_model.sav'\n",
    "pickle.dump(lr, open(filename, 'wb'))\n",
    " "
   ]
  }
 ],
 "metadata": {
  "kernelspec": {
   "display_name": "Python 3 (ipykernel)",
   "language": "python",
   "name": "python3"
  },
  "language_info": {
   "codemirror_mode": {
    "name": "ipython",
    "version": 3
   },
   "file_extension": ".py",
   "mimetype": "text/x-python",
   "name": "python",
   "nbconvert_exporter": "python",
   "pygments_lexer": "ipython3",
   "version": "3.9.7"
  }
 },
 "nbformat": 4,
 "nbformat_minor": 5
}
