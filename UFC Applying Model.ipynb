{
 "cells": [
  {
   "cell_type": "markdown",
   "id": "54415c24",
   "metadata": {},
   "source": [
    "## Applying the model"
   ]
  },
  {
   "cell_type": "code",
   "execution_count": 1,
   "id": "21f41d11",
   "metadata": {},
   "outputs": [],
   "source": [
    "import pandas as pd\n",
    "import numpy as np\n",
    "import matplotlib.pyplot as plt\n",
    "import seaborn as sns\n",
    "import pickle\n"
   ]
  },
  {
   "cell_type": "code",
   "execution_count": 12,
   "id": "fa96c1ec",
   "metadata": {},
   "outputs": [],
   "source": [
    "with open('ufc_model', 'rb') as handle:\n",
    "    ufc_model = pickle.load(handle)"
   ]
  },
  {
   "cell_type": "code",
   "execution_count": 13,
   "id": "0c58f036",
   "metadata": {},
   "outputs": [],
   "source": [
    "## Load the model\n",
    "filename = 'finalized_model.sav'\n",
    "lr = pickle.load(open(filename, 'rb'))"
   ]
  },
  {
   "cell_type": "code",
   "execution_count": 14,
   "id": "5c7c2dc9",
   "metadata": {},
   "outputs": [],
   "source": [
    "pd.options.display.max_rows = 200"
   ]
  },
  {
   "cell_type": "code",
   "execution_count": 22,
   "id": "380a8b53",
   "metadata": {},
   "outputs": [
    {
     "name": "stdout",
     "output_type": "stream",
     "text": [
      "model_stats[Fight_type_Bantamweight] = 0\n",
      "model_stats[Fight_type_Featherweight] = 0\n",
      "model_stats[Fight_type_Flyweight] = 0\n",
      "model_stats[Fight_type_Heavyweight] = 0\n",
      "model_stats[Fight_type_Light Heavyweight] = 0\n",
      "model_stats[Fight_type_Lightweight] = 0\n",
      "model_stats[Fight_type_Middleweight] = 0\n",
      "model_stats[Fight_type_Open Weight] = 0\n",
      "model_stats[Fight_type_Welterweight] = 0\n",
      "model_stats[Fight_type_Women's Bantamweight] = 0\n",
      "model_stats[Fight_type_Women's Flyweight] = 0\n",
      "model_stats[Fight_type_Women's Strawweight] = 0\n",
      "model_stats[Fight_type_losses_Bantamweight_x] = 0\n",
      "model_stats[Fight_type_losses_Featherweight_x] = 0\n",
      "model_stats[Fight_type_losses_Flyweight_x] = 0\n",
      "model_stats[Fight_type_losses_Heavyweight_x] = 0\n",
      "model_stats[Fight_type_losses_Light Heavyweight_x] = 0\n",
      "model_stats[Fight_type_losses_Lightweight_x] = 0\n",
      "model_stats[Fight_type_losses_Middleweight_x] = 0\n",
      "model_stats[Fight_type_losses_Open Weight_x] = 0\n",
      "model_stats[Fight_type_losses_Welterweight_x] = 0\n",
      "model_stats[Fight_type_losses_Women's Bantamweight_x] = 0\n",
      "model_stats[Fight_type_losses_Women's Flyweight_x] = 0\n",
      "model_stats[Fight_type_losses_Women's Strawweight_x] = 0\n",
      "model_stats[Fight_type_wins_Bantamweight_x] = 0\n",
      "model_stats[Fight_type_wins_Featherweight_x] = 0\n",
      "model_stats[Fight_type_wins_Flyweight_x] = 0\n",
      "model_stats[Fight_type_wins_Heavyweight_x] = 0\n",
      "model_stats[Fight_type_wins_Light Heavyweight_x] = 0\n",
      "model_stats[Fight_type_wins_Lightweight_x] = 0\n",
      "model_stats[Fight_type_wins_Middleweight_x] = 0\n",
      "model_stats[Fight_type_wins_Open Weight_x] = 0\n",
      "model_stats[Fight_type_wins_Welterweight_x] = 0\n",
      "model_stats[Fight_type_wins_Women's Bantamweight_x] = 0\n",
      "model_stats[Fight_type_wins_Women's Flyweight_x] = 0\n",
      "model_stats[Fight_type_wins_Women's Strawweight_x] = 0\n",
      "model_stats[Fight_type_losses_Bantamweight_y] = 0\n",
      "model_stats[Fight_type_losses_Featherweight_y] = 0\n",
      "model_stats[Fight_type_losses_Flyweight_y] = 0\n",
      "model_stats[Fight_type_losses_Heavyweight_y] = 0\n",
      "model_stats[Fight_type_losses_Light Heavyweight_y] = 0\n",
      "model_stats[Fight_type_losses_Lightweight_y] = 0\n",
      "model_stats[Fight_type_losses_Middleweight_y] = 0\n",
      "model_stats[Fight_type_losses_Open Weight_y] = 0\n",
      "model_stats[Fight_type_losses_Welterweight_y] = 0\n",
      "model_stats[Fight_type_losses_Women's Bantamweight_y] = 0\n",
      "model_stats[Fight_type_losses_Women's Flyweight_y] = 0\n",
      "model_stats[Fight_type_losses_Women's Strawweight_y] = 0\n",
      "model_stats[Fight_type_wins_Bantamweight_y] = 0\n",
      "model_stats[Fight_type_wins_Featherweight_y] = 0\n",
      "model_stats[Fight_type_wins_Flyweight_y] = 0\n",
      "model_stats[Fight_type_wins_Heavyweight_y] = 0\n",
      "model_stats[Fight_type_wins_Light Heavyweight_y] = 0\n",
      "model_stats[Fight_type_wins_Lightweight_y] = 0\n",
      "model_stats[Fight_type_wins_Middleweight_y] = 0\n",
      "model_stats[Fight_type_wins_Open Weight_y] = 0\n",
      "model_stats[Fight_type_wins_Welterweight_y] = 0\n",
      "model_stats[Fight_type_wins_Women's Bantamweight_y] = 0\n",
      "model_stats[Fight_type_wins_Women's Flyweight_y] = 0\n",
      "model_stats[Fight_type_wins_Women's Strawweight_y] = 0\n"
     ]
    }
   ],
   "source": [
    "for col in ufc_model.columns:\n",
    "    if 'Fight_type_' in col:\n",
    "        print('model_stats['+col+'] = 0' )"
   ]
  },
  {
   "cell_type": "code",
   "execution_count": 16,
   "id": "74bc5ee3",
   "metadata": {},
   "outputs": [],
   "source": [
    "fight_1 = ufc_model[[col for col in ufc_model.columns if (col[:2] == 'R_')|(col[-2:] == '_x')|('_x_' in col)]]\n",
    "fight_2 = ufc_model[[col for col in ufc_model.columns if (col[:2] == 'B_')|(col[-2:] == '_y')|('_y_' in col)]]\n",
    "\n",
    "R_col = fight_1.columns\n",
    "B_col = fight_2.columns\n",
    "\n",
    "fight_2.columns = list(range(len(R_col)))\n",
    "fight_1.columns = list(range(len(R_col)))\n",
    "\n",
    "fights = pd.concat([fight_2,fight_1])\n",
    "\n",
    "\n",
    "\n",
    "#fight_1.columns = [x for x in range(len(R_col))]\n",
    "#fight_2.columns = [x for x in range(len(R_col))]\n"
   ]
  },
  {
   "cell_type": "code",
   "execution_count": 17,
   "id": "9cf2b481",
   "metadata": {},
   "outputs": [],
   "source": [
    "from ipywidgets import widgets, interactive"
   ]
  },
  {
   "cell_type": "code",
   "execution_count": 18,
   "id": "e862e166",
   "metadata": {},
   "outputs": [
    {
     "ename": "NameError",
     "evalue": "name 'df' is not defined",
     "output_type": "error",
     "traceback": [
      "\u001b[1;31m---------------------------------------------------------------------------\u001b[0m",
      "\u001b[1;31mNameError\u001b[0m                                 Traceback (most recent call last)",
      "\u001b[1;32m~\\AppData\\Local\\Temp/ipykernel_11032/873951734.py\u001b[0m in \u001b[0;36m<module>\u001b[1;34m\u001b[0m\n\u001b[0;32m      1\u001b[0m \u001b[1;31m# Create two bounded text box that allow only numbers between the min year (2012) and the max year (2015)\u001b[0m\u001b[1;33m\u001b[0m\u001b[1;33m\u001b[0m\u001b[0m\n\u001b[0;32m      2\u001b[0m fighter_name_R = widgets.BoundedFloatText(\n\u001b[1;32m----> 3\u001b[1;33m     \u001b[0mvalue\u001b[0m\u001b[1;33m=\u001b[0m\u001b[0mdf\u001b[0m\u001b[1;33m.\u001b[0m\u001b[0mYear\u001b[0m\u001b[1;33m.\u001b[0m\u001b[0mmin\u001b[0m\u001b[1;33m(\u001b[0m\u001b[1;33m)\u001b[0m\u001b[1;33m,\u001b[0m\u001b[1;33m\u001b[0m\u001b[1;33m\u001b[0m\u001b[0m\n\u001b[0m\u001b[0;32m      4\u001b[0m     \u001b[0mmin\u001b[0m\u001b[1;33m=\u001b[0m\u001b[0mdf\u001b[0m\u001b[1;33m.\u001b[0m\u001b[0mYear\u001b[0m\u001b[1;33m.\u001b[0m\u001b[0mmin\u001b[0m\u001b[1;33m(\u001b[0m\u001b[1;33m)\u001b[0m\u001b[1;33m,\u001b[0m\u001b[1;33m\u001b[0m\u001b[1;33m\u001b[0m\u001b[0m\n\u001b[0;32m      5\u001b[0m     \u001b[0mmax\u001b[0m\u001b[1;33m=\u001b[0m\u001b[0mdf\u001b[0m\u001b[1;33m.\u001b[0m\u001b[0mYear\u001b[0m\u001b[1;33m.\u001b[0m\u001b[0mmax\u001b[0m\u001b[1;33m(\u001b[0m\u001b[1;33m)\u001b[0m\u001b[1;33m,\u001b[0m\u001b[1;33m\u001b[0m\u001b[1;33m\u001b[0m\u001b[0m\n",
      "\u001b[1;31mNameError\u001b[0m: name 'df' is not defined"
     ]
    }
   ],
   "source": [
    "# Create two bounded text box that allow only numbers between the min year (2012) and the max year (2015)\n",
    "fighter_name_R = widgets.BoundedFloatText(\n",
    "    value=df.Year.min(),\n",
    "    min=df.Year.min(),\n",
    "    max=df.Year.max(),\n",
    "    step=1,\n",
    "    description='Start Year:',\n",
    "    disabled=False,\n",
    "    color='black'\n",
    ")\n",
    "\n",
    "# end_year = widgets.BoundedFloatText(\n",
    "#     value=df.Year.max(),\n",
    "#     min=df.Year.min(),\n",
    "#     max=df.Year.max(),\n",
    "#     step=1,\n",
    "#     description='End Year:',\n",
    "#     disabled=False,\n",
    "#     color='black'\n",
    "# )\n",
    "\n",
    "# # Make a dropdown to select the Area, or \"All\"\n",
    "# area = widgets.Dropdown(\n",
    "#     options=['All'] + list(df['Area'].unique()),\n",
    "#     value='All',\n",
    "#     description='Area:',\n",
    "# )"
   ]
  },
  {
   "cell_type": "code",
   "execution_count": 61,
   "id": "2fe9898a",
   "metadata": {},
   "outputs": [],
   "source": [
    "## Determine the winner\n",
    "['Bantamweight', 'Middleweight', 'Heavyweight', \"Women's Strawweight\", \"Women's Bantamweight\", 'Lightweight', 'Welterweight', 'Flyweight', 'Light Heavyweight', 'Featherweight', \"Women's Flyweight\", 'Open Weight']\n",
    "\n",
    "\n",
    "def get_fighter_stats(fighter_name_R\n",
    "                      ,fighter_age_R\n",
    "                      ,fighter_name_B\n",
    "                      ,fighter_age_B\n",
    "                      ,bout_type\n",
    "                      ,title = 0):\n",
    "    \n",
    "    filename = 'finalized_model.sav'\n",
    "    lr = pickle.load(open(filename, 'rb'))\n",
    "    \n",
    "    \n",
    "    \n",
    "    df1 = fights[fights[0] == fighter_name_R]\n",
    "    df1.columns = R_col\n",
    "    stat_age = min(df1.iloc[:,-1], key=lambda x:abs(x-fighter_age_R))\n",
    "    stat = df1[df1.iloc[:,-1] == stat_age ].average_SIG_STR_pct_x.max()\n",
    "    df1 = df1[df1['average_SIG_STR_pct_x'] == stat].iloc[[0]]\n",
    "    df1.reset_index(inplace = True,  drop = True)\n",
    "    \n",
    "    df2 = fights[fights[0] == fighter_name_B]\n",
    "    df2.columns = B_col\n",
    "    stat_age = min(df2.iloc[:,-1], key=lambda x:abs(x-fighter_age_B))\n",
    "    stat = df2[df2.iloc[:,-1] == stat_age].average_SIG_STR_pct_y.max()\n",
    "    df2 = df2[df2['average_SIG_STR_pct_y'] == stat].iloc[[0]]\n",
    "    df2.reset_index(inplace = True, drop = True)\n",
    "    \n",
    "    model_stats =  pd.concat([df1,df2] , axis = 1)\n",
    "    model_stats['Title'] = title\n",
    "    \n",
    "    if bout_type == 'Bantamweight':\n",
    "        model_stats[\"Fight_type_Bantamweight\"] = 1\n",
    "    else:\n",
    "        model_stats[\"Fight_type_Bantamweight\"] = 0\n",
    "    \n",
    "    if bout_type == 'Featherweight':\n",
    "        model_stats[\"Fight_type_Featherweight\"] = 1\n",
    "    else:\n",
    "        model_stats[\"Fight_type_Featherweight\"] = 0\n",
    "        \n",
    "    if bout_type == 'Flyweight':\n",
    "        model_stats[\"Fight_type_Flyweight\"] = 1\n",
    "    else:\n",
    "        model_stats[\"Fight_type_Flyweight\"] = 0\n",
    "        \n",
    "    if bout_type == 'Heavyweight':\n",
    "        model_stats[\"Fight_type_Heavyweight\"] = 1\n",
    "    else:\n",
    "        model_stats[\"Fight_type_Heavyweight\"] = 0\n",
    "    \n",
    "    if bout_type == 'Light Heavyweight':\n",
    "        model_stats[\"Fight_type_Light Heavyweight\"] = 1\n",
    "    else:\n",
    "        model_stats[\"Fight_type_Light Heavyweight\"] = 0\n",
    "    \n",
    "    if bout_type == 'Lightweight':\n",
    "        model_stats[\"Fight_type_Lightweight\"] = 1\n",
    "    else:\n",
    "        model_stats[\"Fight_type_Lightweight\"] = 0\n",
    "    \n",
    "    if bout_type == 'Middleweight':\n",
    "        model_stats[\"Fight_type_Middleweight\"] = 1\n",
    "    else:\n",
    "        model_stats[\"Fight_type_Middleweight\"] = 0\n",
    "    \n",
    "    if bout_type == 'Welterweight':\n",
    "        model_stats[\"Fight_type_Welterweight\"] = 1\n",
    "    else:\n",
    "        model_stats[\"Fight_type_Welterweight\"] = 0\n",
    "\n",
    "\n",
    "    model_stats[\"Fight_type_Open Weight\"] = 0\n",
    "    model_stats[\"Fight_type_Women's Bantamweight\"] = 0\n",
    "    model_stats[\"Fight_type_Women's Flyweight\"] = 0\n",
    "    model_stats[\"Fight_type_Women's Strawweight\"] = 0\n",
    "    \n",
    "    X = model_stats.select_dtypes(['number'])\n",
    "    result = lr.predict(X)\n",
    "    \n",
    "    print(result)\n",
    "    if result == 0:\n",
    "        print(fighter_name_R)\n",
    "    else:\n",
    "        print(fighter_name_B)\n",
    "    \n",
    "    return X\n",
    "\n",
    "\n",
    "    "
   ]
  },
  {
   "cell_type": "code",
   "execution_count": 59,
   "id": "01b454f1",
   "metadata": {},
   "outputs": [
    {
     "data": {
      "text/plain": [
       "'Raphael Pessoa'"
      ]
     },
     "execution_count": 59,
     "metadata": {},
     "output_type": "execute_result"
    }
   ],
   "source": [
    "import random\n",
    "random.choice(fights[0].unique())"
   ]
  },
  {
   "cell_type": "code",
   "execution_count": 62,
   "id": "210196fd",
   "metadata": {
    "scrolled": true
   },
   "outputs": [
    {
     "name": "stdout",
     "output_type": "stream",
     "text": [
      "[1]\n",
      "Raphael Pessoa\n"
     ]
    },
    {
     "data": {
      "text/html": [
       "<div>\n",
       "<style scoped>\n",
       "    .dataframe tbody tr th:only-of-type {\n",
       "        vertical-align: middle;\n",
       "    }\n",
       "\n",
       "    .dataframe tbody tr th {\n",
       "        vertical-align: top;\n",
       "    }\n",
       "\n",
       "    .dataframe thead th {\n",
       "        text-align: right;\n",
       "    }\n",
       "</style>\n",
       "<table border=\"1\" class=\"dataframe\">\n",
       "  <thead>\n",
       "    <tr style=\"text-align: right;\">\n",
       "      <th></th>\n",
       "      <th>average_KD_x</th>\n",
       "      <th>average_SIG_STR_pct_x</th>\n",
       "      <th>average_TD_pct_x</th>\n",
       "      <th>average_SUB_ATT_x</th>\n",
       "      <th>average_REV_x</th>\n",
       "      <th>average_CTRL_x</th>\n",
       "      <th>average_SIG_STR_landed_x</th>\n",
       "      <th>average_SIG_STR_attempted_x</th>\n",
       "      <th>average_TOTAL_STR_landed_x</th>\n",
       "      <th>average_TOTAL_STR_attempted_x</th>\n",
       "      <th>...</th>\n",
       "      <th>Fight_type_Flyweight</th>\n",
       "      <th>Fight_type_Heavyweight</th>\n",
       "      <th>Fight_type_Light Heavyweight</th>\n",
       "      <th>Fight_type_Lightweight</th>\n",
       "      <th>Fight_type_Middleweight</th>\n",
       "      <th>Fight_type_Welterweight</th>\n",
       "      <th>Fight_type_Open Weight</th>\n",
       "      <th>Fight_type_Women's Bantamweight</th>\n",
       "      <th>Fight_type_Women's Flyweight</th>\n",
       "      <th>Fight_type_Women's Strawweight</th>\n",
       "    </tr>\n",
       "  </thead>\n",
       "  <tbody>\n",
       "    <tr>\n",
       "      <th>0</th>\n",
       "      <td>0.0</td>\n",
       "      <td>64.0</td>\n",
       "      <td>100.0</td>\n",
       "      <td>0.0</td>\n",
       "      <td>0.0</td>\n",
       "      <td>231.0</td>\n",
       "      <td>11.0</td>\n",
       "      <td>17.0</td>\n",
       "      <td>66.0</td>\n",
       "      <td>88.0</td>\n",
       "      <td>...</td>\n",
       "      <td>0</td>\n",
       "      <td>0</td>\n",
       "      <td>0</td>\n",
       "      <td>0</td>\n",
       "      <td>0</td>\n",
       "      <td>1</td>\n",
       "      <td>0</td>\n",
       "      <td>0</td>\n",
       "      <td>0</td>\n",
       "      <td>0</td>\n",
       "    </tr>\n",
       "  </tbody>\n",
       "</table>\n",
       "<p>1 rows × 159 columns</p>\n",
       "</div>"
      ],
      "text/plain": [
       "   average_KD_x  average_SIG_STR_pct_x  average_TD_pct_x  average_SUB_ATT_x  \\\n",
       "0           0.0                   64.0             100.0                0.0   \n",
       "\n",
       "   average_REV_x  average_CTRL_x  average_SIG_STR_landed_x  \\\n",
       "0            0.0           231.0                      11.0   \n",
       "\n",
       "   average_SIG_STR_attempted_x  average_TOTAL_STR_landed_x  \\\n",
       "0                         17.0                        66.0   \n",
       "\n",
       "   average_TOTAL_STR_attempted_x  ...  Fight_type_Flyweight  \\\n",
       "0                           88.0  ...                     0   \n",
       "\n",
       "   Fight_type_Heavyweight  Fight_type_Light Heavyweight  \\\n",
       "0                       0                             0   \n",
       "\n",
       "   Fight_type_Lightweight  Fight_type_Middleweight  Fight_type_Welterweight  \\\n",
       "0                       0                        0                        1   \n",
       "\n",
       "   Fight_type_Open Weight  Fight_type_Women's Bantamweight  \\\n",
       "0                       0                                0   \n",
       "\n",
       "   Fight_type_Women's Flyweight  Fight_type_Women's Strawweight  \n",
       "0                             0                               0  \n",
       "\n",
       "[1 rows x 159 columns]"
      ]
     },
     "execution_count": 62,
     "metadata": {},
     "output_type": "execute_result"
    }
   ],
   "source": [
    "## Test the result\n",
    "get_fighter_stats('Colby Covington', 30 ,'Raphael Pessoa' , 32,'Welterweight', 0)\n"
   ]
  },
  {
   "cell_type": "code",
   "execution_count": 47,
   "id": "c3508329",
   "metadata": {},
   "outputs": [
    {
     "data": {
      "text/plain": [
       "['Fight_type_Light Heavyweight']"
      ]
     },
     "execution_count": 47,
     "metadata": {},
     "output_type": "execute_result"
    }
   ],
   "source": [
    "main_list = list(set(list1) - set(list2))\n",
    "main_list"
   ]
  },
  {
   "cell_type": "code",
   "execution_count": 48,
   "id": "5ab2da1e",
   "metadata": {},
   "outputs": [
    {
     "ename": "NameError",
     "evalue": "name 'model_stats' is not defined",
     "output_type": "error",
     "traceback": [
      "\u001b[1;31m---------------------------------------------------------------------------\u001b[0m",
      "\u001b[1;31mNameError\u001b[0m                                 Traceback (most recent call last)",
      "\u001b[1;32m~\\AppData\\Local\\Temp/ipykernel_11032/2127679431.py\u001b[0m in \u001b[0;36m<module>\u001b[1;34m\u001b[0m\n\u001b[1;32m----> 1\u001b[1;33m \u001b[0mmodel_stats\u001b[0m\u001b[1;33m\u001b[0m\u001b[1;33m\u001b[0m\u001b[0m\n\u001b[0m",
      "\u001b[1;31mNameError\u001b[0m: name 'model_stats' is not defined"
     ]
    }
   ],
   "source": [
    "model_stats"
   ]
  }
 ],
 "metadata": {
  "kernelspec": {
   "display_name": "Python 3 (ipykernel)",
   "language": "python",
   "name": "python3"
  },
  "language_info": {
   "codemirror_mode": {
    "name": "ipython",
    "version": 3
   },
   "file_extension": ".py",
   "mimetype": "text/x-python",
   "name": "python",
   "nbconvert_exporter": "python",
   "pygments_lexer": "ipython3",
   "version": "3.9.7"
  }
 },
 "nbformat": 4,
 "nbformat_minor": 5
}
